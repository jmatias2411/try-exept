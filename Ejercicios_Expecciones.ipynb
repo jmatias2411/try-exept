{
  "nbformat": 4,
  "nbformat_minor": 0,
  "metadata": {
    "colab": {
      "provenance": []
    },
    "kernelspec": {
      "name": "python3",
      "display_name": "Python 3"
    },
    "language_info": {
      "name": "python"
    }
  },
  "cells": [
    {
      "cell_type": "markdown",
      "source": [
        "#Ejercicios Finales"
      ],
      "metadata": {
        "id": "QnVIt4GYj1eK"
      }
    },
    {
      "cell_type": "markdown",
      "source": [
        "##Crear una excepción personalizada llamada EdadInvalidaError que se active cuando una persona intenta registrarse con una edad menor a 18 años. Capturar la excepción e imprimir un mensaje adecuado."
      ],
      "metadata": {
        "id": "GYZ31Bb8jbYz"
      }
    },
    {
      "cell_type": "code",
      "source": [],
      "metadata": {
        "colab": {
          "base_uri": "https://localhost:8080/"
        },
        "id": "YXh9KHZzjc5B",
        "outputId": "3f1a7dc4-78e4-4d99-f826-b572733eec28"
      },
      "execution_count": null,
      "outputs": [
        {
          "output_type": "stream",
          "name": "stdout",
          "text": [
            "Ingrese su edad: 0\n",
            "Error: Debes ser mayor de 18 años para registrarte.\n"
          ]
        }
      ]
    },
    {
      "cell_type": "markdown",
      "source": [
        "##Modificar el código de reservas de hotel para que, si el usuario ingresa un número de habitación inválido, la excepción se propague hasta el nivel superior y se maneje en try-except."
      ],
      "metadata": {
        "id": "mgXa8O72jh0p"
      }
    },
    {
      "cell_type": "code",
      "source": [],
      "metadata": {
        "colab": {
          "base_uri": "https://localhost:8080/"
        },
        "id": "SQgsKI0ajkYZ",
        "outputId": "ca9f515a-409e-4c3d-fec5-b913b26ff1b0"
      },
      "execution_count": null,
      "outputs": [
        {
          "output_type": "stream",
          "name": "stdout",
          "text": [
            "Ingrese el número de la habitación: 102\n",
            "Habitación 102 reservada con éxito.\n"
          ]
        }
      ]
    },
    {
      "cell_type": "markdown",
      "source": [
        "##Crear una función que divida dos números, pero maneje ZeroDivisionError, TypeError y ValueError en la misma estructura try-except."
      ],
      "metadata": {
        "id": "7tDsHYxojj6x"
      }
    },
    {
      "cell_type": "code",
      "source": [],
      "metadata": {
        "id": "PVTEn8JFjoDB"
      },
      "execution_count": null,
      "outputs": []
    },
    {
      "cell_type": "markdown",
      "source": [
        "##Crear una función que valide contraseñas. La contraseña debe tener al menos 8 caracteres y contener un número. Si no cumple los requisitos, lanzar una excepción personalizada ContraseñaInvalidaError."
      ],
      "metadata": {
        "id": "5xko5ALojqWy"
      }
    },
    {
      "cell_type": "code",
      "source": [],
      "metadata": {
        "id": "DnyyTjdXjthZ"
      },
      "execution_count": null,
      "outputs": []
    },
    {
      "cell_type": "markdown",
      "source": [
        "##Implementar un sistema bancario donde si un usuario intenta retirar más dinero del disponible, se genere una excepción personalizada FondosInsuficientesError y se capture en try-except."
      ],
      "metadata": {
        "id": "imOhwNlIjwJC"
      }
    },
    {
      "cell_type": "code",
      "source": [
        "\n"
      ],
      "metadata": {
        "id": "hpBlygzajv3B"
      },
      "execution_count": null,
      "outputs": []
    },
    {
      "cell_type": "markdown",
      "source": [
        "# Corrige el codigo"
      ],
      "metadata": {
        "id": "IdO4qtbltMpV"
      }
    },
    {
      "cell_type": "code",
      "source": [
        "class Habitacion:\n",
        "    def __init__(self, numero, tipo):\n",
        "        self.numero = numero\n",
        "        self.tipo = tipo\n",
        "        self.disponible = True  # Por defecto, la habitación está disponible\n",
        "\n",
        "class Hotel:\n",
        "    def __init__(self):\n",
        "        self.habitaciones = {num: Habitacion(num, \"Doble\") for num in range(101, 106)}\n",
        "        self.reservas = {}\n",
        "\n",
        "    def reservar_habitacion(self, numero_habitacion, cliente):\n",
        "        \"\"\"Reserva una habitación si está disponible.\"\"\"\n",
        "        if numero_habitacion in self.habitaciones:\n",
        "            if not self.habitaciones[numero_habitacion].disponible:\n",
        "                print(\"Error: La habitación ya está reservada.\")\n",
        "            else:\n",
        "                self.habitaciones[numero_habitacion].disponible = False\n",
        "                print(\"Habitación reservada exitosamente\")\n",
        "                self.reservas[numero_habitacion] = cliente\n",
        "        else:\n",
        "            raise ValueError(\"La habitación no existe.\")\n",
        "\n",
        "hotel = Hotel()\n",
        "hotel.reservar_habitacion(107, \"Juan Pérez\")  # Prueba con una habitación inexistente\n",
        "hotel.reservar_habitacion(101, \"María López\")\n",
        "hotel.reservar_habitacion(101, \"Carlos Ramírez\")  # Prueba reservando una habitación ya ocupada\n"
      ],
      "metadata": {
        "id": "NgDIeJsxtTbc",
        "outputId": "01ad3d34-a355-454e-b559-919e79414366",
        "colab": {
          "base_uri": "https://localhost:8080/",
          "height": 332
        }
      },
      "execution_count": null,
      "outputs": [
        {
          "output_type": "error",
          "ename": "ValueError",
          "evalue": "La habitación no existe.",
          "traceback": [
            "\u001b[0;31m---------------------------------------------------------------------------\u001b[0m",
            "\u001b[0;31mValueError\u001b[0m                                Traceback (most recent call last)",
            "\u001b[0;32m<ipython-input-4-cd36166f9689>\u001b[0m in \u001b[0;36m<cell line: 0>\u001b[0;34m()\u001b[0m\n\u001b[1;32m     23\u001b[0m \u001b[0;34m\u001b[0m\u001b[0m\n\u001b[1;32m     24\u001b[0m \u001b[0mhotel\u001b[0m \u001b[0;34m=\u001b[0m \u001b[0mHotel\u001b[0m\u001b[0;34m(\u001b[0m\u001b[0;34m)\u001b[0m\u001b[0;34m\u001b[0m\u001b[0;34m\u001b[0m\u001b[0m\n\u001b[0;32m---> 25\u001b[0;31m \u001b[0mhotel\u001b[0m\u001b[0;34m.\u001b[0m\u001b[0mreservar_habitacion\u001b[0m\u001b[0;34m(\u001b[0m\u001b[0;36m107\u001b[0m\u001b[0;34m,\u001b[0m \u001b[0;34m\"Juan Pérez\"\u001b[0m\u001b[0;34m)\u001b[0m  \u001b[0;31m# Prueba con una habitación inexistente\u001b[0m\u001b[0;34m\u001b[0m\u001b[0;34m\u001b[0m\u001b[0m\n\u001b[0m\u001b[1;32m     26\u001b[0m \u001b[0mhotel\u001b[0m\u001b[0;34m.\u001b[0m\u001b[0mreservar_habitacion\u001b[0m\u001b[0;34m(\u001b[0m\u001b[0;36m101\u001b[0m\u001b[0;34m,\u001b[0m \u001b[0;34m\"María López\"\u001b[0m\u001b[0;34m)\u001b[0m\u001b[0;34m\u001b[0m\u001b[0;34m\u001b[0m\u001b[0m\n\u001b[1;32m     27\u001b[0m \u001b[0mhotel\u001b[0m\u001b[0;34m.\u001b[0m\u001b[0mreservar_habitacion\u001b[0m\u001b[0;34m(\u001b[0m\u001b[0;36m101\u001b[0m\u001b[0;34m,\u001b[0m \u001b[0;34m\"Carlos Ramírez\"\u001b[0m\u001b[0;34m)\u001b[0m  \u001b[0;31m# Prueba reservando una habitación ya ocupada\u001b[0m\u001b[0;34m\u001b[0m\u001b[0;34m\u001b[0m\u001b[0m\n",
            "\u001b[0;32m<ipython-input-4-cd36166f9689>\u001b[0m in \u001b[0;36mreservar_habitacion\u001b[0;34m(self, numero_habitacion, cliente)\u001b[0m\n\u001b[1;32m     20\u001b[0m                 \u001b[0mself\u001b[0m\u001b[0;34m.\u001b[0m\u001b[0mreservas\u001b[0m\u001b[0;34m[\u001b[0m\u001b[0mnumero_habitacion\u001b[0m\u001b[0;34m]\u001b[0m \u001b[0;34m=\u001b[0m \u001b[0mcliente\u001b[0m\u001b[0;34m\u001b[0m\u001b[0;34m\u001b[0m\u001b[0m\n\u001b[1;32m     21\u001b[0m         \u001b[0;32melse\u001b[0m\u001b[0;34m:\u001b[0m\u001b[0;34m\u001b[0m\u001b[0;34m\u001b[0m\u001b[0m\n\u001b[0;32m---> 22\u001b[0;31m             \u001b[0;32mraise\u001b[0m \u001b[0mValueError\u001b[0m\u001b[0;34m(\u001b[0m\u001b[0;34m\"La habitación no existe.\"\u001b[0m\u001b[0;34m)\u001b[0m\u001b[0;34m\u001b[0m\u001b[0;34m\u001b[0m\u001b[0m\n\u001b[0m\u001b[1;32m     23\u001b[0m \u001b[0;34m\u001b[0m\u001b[0m\n\u001b[1;32m     24\u001b[0m \u001b[0mhotel\u001b[0m \u001b[0;34m=\u001b[0m \u001b[0mHotel\u001b[0m\u001b[0;34m(\u001b[0m\u001b[0;34m)\u001b[0m\u001b[0;34m\u001b[0m\u001b[0;34m\u001b[0m\u001b[0m\n",
            "\u001b[0;31mValueError\u001b[0m: La habitación no existe."
          ]
        }
      ]
    }
  ]
}